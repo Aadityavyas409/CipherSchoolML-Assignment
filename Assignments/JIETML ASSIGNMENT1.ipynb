{
  "nbformat": 4,
  "nbformat_minor": 0,
  "metadata": {
    "colab": {
      "name": "Untitled0.ipynb",
      "provenance": []
    },
    "kernelspec": {
      "name": "python3",
      "display_name": "Python 3"
    }
  },
  "cells": [
    {
      "cell_type": "markdown",
      "metadata": {
        "id": "bhskj5xs6vNT",
        "colab_type": "text"
      },
      "source": [
        "Submitted by Aman Joshi \n",
        "Roll Number -  17EJTCS014"
      ]
    },
    {
      "cell_type": "markdown",
      "metadata": {
        "id": "7g3YQNFJpMY4",
        "colab_type": "text"
      },
      "source": [
        "Q1.) Write a program to get a user input in the form of a list data type. Return a list by removing all the duplicates.\n",
        "Sample Input -> [4, 4, 5, 6, 8, 4, 5]\n",
        "Output -> [4, 5, 6, 8]\n",
        "NOTE: Take user input using a for loop."
      ]
    },
    {
      "cell_type": "code",
      "metadata": {
        "id": "lfcYs96zpSFU",
        "colab_type": "code",
        "colab": {
          "base_uri": "https://localhost:8080/",
          "height": 34
        },
        "outputId": "75b055a6-12d8-4f36-92f4-12ca858e34c6"
      },
      "source": [
        "def Remove(duplicate): \n",
        "    take = [] \n",
        "    for num in duplicate: \n",
        "        if num not in take: \n",
        "            take.append(num) \n",
        "    return take \n",
        "duplicate = [5,6,4,23,5,7,3,4,3,4] \n",
        "print(Remove(duplicate)) "
      ],
      "execution_count": 2,
      "outputs": [
        {
          "output_type": "stream",
          "text": [
            "[5, 6, 4, 23, 7, 3]\n"
          ],
          "name": "stdout"
        }
      ]
    },
    {
      "cell_type": "markdown",
      "metadata": {
        "id": "LBWpXYXNqJnQ",
        "colab_type": "text"
      },
      "source": [
        "Q2.)  Write a program to create a user defined tuple with ‘int’ data type and perform the following operations:\n",
        "    Find the length of tuples\n",
        "    Find the sum of all the elements of a tuple\n",
        "    Find the largest and smallest elements of a tuple\n"
      ]
    },
    {
      "cell_type": "code",
      "metadata": {
        "id": "pVTNwE_nqOm1",
        "colab_type": "code",
        "colab": {
          "base_uri": "https://localhost:8080/",
          "height": 102
        },
        "outputId": "c9510ef2-914d-40bb-9711-50e7a01e9002"
      },
      "source": [
        "user = (1, 2, 3)\n",
        "print(user)\n",
        "\n",
        "# Length of tuple\n",
        "print(\"1. Tuple length :\", len(user))\n",
        "\n",
        "# # Sum of tuple\n",
        "print (\"2. Max value element : \", sum(user))\n",
        "\n",
        "# # Largest and smallest \n",
        "print(\"3. Largest in tuple :\", min(user))\n",
        "print(\"4. Smallest in tuple :\",max(user))"
      ],
      "execution_count": 24,
      "outputs": [
        {
          "output_type": "stream",
          "text": [
            "(1, 2, 3)\n",
            "1. Tuple length : 3\n",
            "2. Max value element :  6\n",
            "3. Largest in tuple : 1\n",
            "4. Smallest in tuple : 3\n"
          ],
          "name": "stdout"
        }
      ]
    },
    {
      "cell_type": "markdown",
      "metadata": {
        "id": "7KLWLU6Du6OO",
        "colab_type": "text"
      },
      "source": [
        "Q3.) Given a number and ith bit, change the ith bit of that number to 1.\n",
        "Sample Input -> num = 13, i = 1\n",
        "Output -> 15\n",
        "Explanation -> 13 can be represented as 1101 in binary. Now if we set the 1st bit of this binary represented value, we will get 1111 (i.e. 15) as output.\n"
      ]
    },
    {
      "cell_type": "code",
      "metadata": {
        "id": "g-GX7wNpvAqp",
        "colab_type": "code",
        "colab": {
          "base_uri": "https://localhost:8080/",
          "height": 34
        },
        "outputId": "e0c25592-338d-499e-b9cb-de80270c5b83"
      },
      "source": [
        "def setKthBit(n,i):\n",
        "    return ((1 << i) | n)\n",
        "n = 13 \n",
        "i = 1\n",
        "print(\"Output Number is = \", \n",
        "          setKthBit(n, i)) "
      ],
      "execution_count": 27,
      "outputs": [
        {
          "output_type": "stream",
          "text": [
            "Output Number is =  15\n"
          ],
          "name": "stdout"
        }
      ]
    },
    {
      "cell_type": "markdown",
      "metadata": {
        "id": "7a16j9sywAfR",
        "colab_type": "text"
      },
      "source": [
        "Q4.) Given a number, print 1 if the number is odd otherwise print 0.\n",
        "NOTE: Try to do this program without the use of if else statement.\n"
      ]
    },
    {
      "cell_type": "code",
      "metadata": {
        "id": "-bFfjQ_cwEgR",
        "colab_type": "code",
        "colab": {
          "base_uri": "https://localhost:8080/",
          "height": 68
        },
        "outputId": "733e2189-4326-4517-e128-1422b8f69bf5"
      },
      "source": [
        "n = [\"Even\", \"Odd\"] \n",
        "print (\"Enter the number\") \n",
        "n1 = input() \n",
        "print (n[int(n1) % 2]) "
      ],
      "execution_count": 28,
      "outputs": [
        {
          "output_type": "stream",
          "text": [
            "Enter the number\n",
            "23\n",
            "Odd\n"
          ],
          "name": "stdout"
        }
      ]
    },
    {
      "cell_type": "markdown",
      "metadata": {
        "id": "WN8YvMVZwT8j",
        "colab_type": "text"
      },
      "source": [
        "Q5.)  Given two lists of integers A and B. Write a program to merge them into a single sorted list that contains every item from list A and B in ascending order."
      ]
    },
    {
      "cell_type": "code",
      "metadata": {
        "id": "eSF3h-mTw86L",
        "colab_type": "code",
        "colab": {
          "base_uri": "https://localhost:8080/",
          "height": 153
        },
        "outputId": "59c3cb60-fd9a-4058-8e22-8002fea0f027"
      },
      "source": [
        "def sortedMerge(a, b, res, n, m): \n",
        "    i, j, k = 0, 0, 0\n",
        "    while (i < n): \n",
        "        res[k] = a[i] \n",
        "        i += 1\n",
        "        k += 1\n",
        "    while (j < m): \n",
        "        res[k] = b[j] \n",
        "        j += 1\n",
        "        k += 1\n",
        "    res.sort() \n",
        "a = [ 10, 5, 15 ] \n",
        "b = [ 20, 3, 2, 12 ] \n",
        "n = len(a) \n",
        "m = len(b) \n",
        "res = [0 for i in range(n + m)] \n",
        "sortedMerge(a, b, res, n, m) \n",
        "print (\"Sorted merged list :\")\n",
        "for i in range(n + m): \n",
        "    print (res[i])"
      ],
      "execution_count": 38,
      "outputs": [
        {
          "output_type": "stream",
          "text": [
            "Sorted merged list :\n",
            "2\n",
            "3\n",
            "5\n",
            "10\n",
            "12\n",
            "15\n",
            "20\n"
          ],
          "name": "stdout"
        }
      ]
    },
    {
      "cell_type": "markdown",
      "metadata": {
        "id": "FgobjY6UytJ6",
        "colab_type": "text"
      },
      "source": [
        "Q6.) Create a user defined dictionary to store names and marks of 5 students. Sort the dictionary according to marks and return this sorted dictionary to the user.\n",
        "Sample Input -> {'Berlin': 70, 'Oslo':0, 'Moscow':50, 'Nairobi':100}\n",
        "Output -> {'Oslo':0, 'Moscow':50, 'Berlin': 70, 'Nairobi':100}\n"
      ]
    },
    {
      "cell_type": "code",
      "metadata": {
        "id": "qhbmiIz41t2x",
        "colab_type": "code",
        "colab": {
          "base_uri": "https://localhost:8080/",
          "height": 85
        },
        "outputId": "a802392e-62cd-4766-9a61-6cede9f85f11"
      },
      "source": [
        "a1 = {'Berlin': 70, 'Oslo':0, 'Moscow':50, 'Nairobi':100}\n",
        "a1_sorted_keys = sorted(a1, key=a1.get, reverse=False)\n",
        "for r in a1_sorted_keys:\n",
        "    print ((r, a1[r]))"
      ],
      "execution_count": 71,
      "outputs": [
        {
          "output_type": "stream",
          "text": [
            "('Oslo', 0)\n",
            "('Moscow', 50)\n",
            "('Berlin', 70)\n",
            "('Nairobi', 100)\n"
          ],
          "name": "stdout"
        }
      ]
    }
  ]
}